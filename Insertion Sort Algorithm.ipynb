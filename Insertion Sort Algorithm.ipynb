{
 "cells": [
  {
   "cell_type": "code",
   "execution_count": 19,
   "id": "5e30ef27",
   "metadata": {
    "scrolled": true
   },
   "outputs": [
    {
     "name": "stdout",
     "output_type": "stream",
     "text": [
      "[1, 2, 3, 4, 5, 6, 7, 8, 9, 10, 11, 12]\n"
     ]
    }
   ],
   "source": [
    "\"\"\"Insertion Sort Algorithm\"\"\"\n",
    "a = [5, 2, 4, 7, 6, 1, 9, 12, 11, 8, 3, 10]\n",
    "for j in range(1, len(a)):\n",
    "    key = a[j]\n",
    "    i = j - 1\n",
    "    while i >= 0 and a[i] > key:\n",
    "        a[i+1] = a[i]\n",
    "        i = i - 1\n",
    "    a[i + 1] = key\n",
    "print(a)"
   ]
  }
 ],
 "metadata": {
  "kernelspec": {
   "display_name": "Python 3 (ipykernel)",
   "language": "python",
   "name": "python3"
  },
  "language_info": {
   "codemirror_mode": {
    "name": "ipython",
    "version": 3
   },
   "file_extension": ".py",
   "mimetype": "text/x-python",
   "name": "python",
   "nbconvert_exporter": "python",
   "pygments_lexer": "ipython3",
   "version": "3.11.5"
  }
 },
 "nbformat": 4,
 "nbformat_minor": 5
}
